{
 "cells": [
  {
   "cell_type": "markdown",
   "metadata": {
    "pycharm": {
     "name": "#%% md\n"
    }
   },
   "source": [
    "# Lab 4: Transfer Learning and BERT!\n",
    "\n",
    "11/20/2023, Ankit Ramakrishnan, Harshitha Somala, Nidhi Bodar, Felix Muzny\n",
    "\n",
    "Due on: 11/21/2023 @ 9pm\n",
    "\n",
    "Agenda\n",
    "------\n",
    "+ Get an overview of the BERT architecture\n",
    "+ Download and play with a pre-trained BERT model\n",
    "+ Train your own network that has a pre-trained BERT component\n",
    "+ Play with some parameters!\n",
    "\n",
    "\n",
    "Summary\n",
    "----\n",
    "This lab will guide you through the setup and uses of pretrained models in `Tensorflow` and `transformers`. In this lab we focus on BERT (https://github.com/google-research/bert/) an __encoder only transformer model__. We will use the pretrained model to extract features from text and use these features to train a classifier to classify different types of data. We will setup a binary classifier on the IMDB dataset. You will be working on training new models on the other datasets."
   ]
  },
  {
   "cell_type": "markdown",
   "metadata": {
    "pycharm": {
     "name": "#%% md\n"
    }
   },
   "source": [
    "# Task 0: Who is in your group?\n",
    "\n",
    "Please work in groups of up to 3 people!\n",
    "\n",
    "__Josef LaFranchise__"
   ]
  },
  {
   "cell_type": "markdown",
   "metadata": {
    "pycharm": {
     "name": "#%% md\n"
    }
   },
   "source": [
    "TASK 1: BERT questions\n",
    "---\n",
    "\n",
    "Before we dive into the code, we'd like you to take a moment to familiarize yourself with the architecture of BERT.\n",
    "\n",
    "Take a look at the following resources as a group:\n",
    "- [Illustrated BERT](http://jalammar.github.io/illustrated-bert/)\n",
    "- SLP Chapter 11.1\n",
    "- [BERT paper](https://aclanthology.org/N19-1423/)\n",
    "\n",
    "Answer the questions in the next cell about the BERT architecture."
   ]
  },
  {
   "cell_type": "markdown",
   "metadata": {
    "pycharm": {
     "name": "#%% md\n"
    }
   },
   "source": [
    "1. What does BERT stand for? __Bidirectional Encoder Representations from Transformers__\n",
    "2. What task is the BERT pre-trained model trained on? __It was trained on the task of predicting the masked word in a sequence using a large amount of text.__\n",
    "3. How many parameters does BERT_{BASE} have? BERT_{LARGE}?   __The base model has 110 million parameters, while the large model has 340 million parameters.__\n",
    "4. What is the architecture of BERT_{BASE}? (what kind of neural network is it, what are the relevant dimensionality numbers?)  __The base model is a stack of 24 transformers with 768 hidden units and 12 attention heads.__\n",
    "5. What can we feed as input to BERT?  __An arbitrary sequence of tokens that starts with the CLS token.__\n",
    "6. What is the output of BERT?  __A sequence of vectors for each of the input positions.__\n",
    "7. If we want to use BERT to help with a classification task, what is a high-level description of what we'll do? (2 - 3 sentences.)  __We will only consider the vector produced by the CLS token as output. We will supply this as an input to a neural network that will provide the value of the classification.__"
   ]
  },
  {
   "cell_type": "markdown",
   "metadata": {
    "pycharm": {
     "name": "#%% md\n"
    }
   },
   "source": [
    "Installation Intermission\n",
    "----"
   ]
  },
  {
   "cell_type": "code",
   "execution_count": 1,
   "metadata": {
    "colab": {
     "base_uri": "https://localhost:8080/"
    },
    "id": "L1C-vVvT3cEj",
    "outputId": "d5f4c5b8-af8b-49aa-8bc0-8d5ff57c1f81",
    "pycharm": {
     "name": "#%%\n"
    }
   },
   "outputs": [
    {
     "name": "stdout",
     "output_type": "stream",
     "text": [
      "Collecting transformers==4.35.0\n",
      "  Using cached transformers-4.35.0-py3-none-any.whl (7.9 MB)\n",
      "Requirement already satisfied: tensorflow==2.14.0 in /Users/shreyasudhanva/opt/anaconda3/lib/python3.9/site-packages (2.14.0)\n",
      "Requirement already satisfied: tqdm>=4.27 in /Users/shreyasudhanva/opt/anaconda3/lib/python3.9/site-packages (from transformers==4.35.0) (4.64.0)\n",
      "Collecting safetensors>=0.3.1\n",
      "  Downloading safetensors-0.4.1-cp39-cp39-macosx_10_7_x86_64.whl (441 kB)\n",
      "\u001b[K     |████████████████████████████████| 441 kB 3.6 MB/s eta 0:00:01\n",
      "\u001b[?25hRequirement already satisfied: requests in /Users/shreyasudhanva/opt/anaconda3/lib/python3.9/site-packages (from transformers==4.35.0) (2.27.1)\n",
      "Collecting huggingface-hub<1.0,>=0.16.4\n",
      "  Using cached huggingface_hub-0.19.4-py3-none-any.whl (311 kB)\n",
      "Requirement already satisfied: pyyaml>=5.1 in /Users/shreyasudhanva/opt/anaconda3/lib/python3.9/site-packages (from transformers==4.35.0) (6.0)\n",
      "Requirement already satisfied: regex!=2019.12.17 in /Users/shreyasudhanva/opt/anaconda3/lib/python3.9/site-packages (from transformers==4.35.0) (2022.3.15)\n",
      "Requirement already satisfied: filelock in /Users/shreyasudhanva/opt/anaconda3/lib/python3.9/site-packages (from transformers==4.35.0) (3.6.0)\n",
      "Requirement already satisfied: packaging>=20.0 in /Users/shreyasudhanva/opt/anaconda3/lib/python3.9/site-packages (from transformers==4.35.0) (21.3)\n",
      "Requirement already satisfied: numpy>=1.17 in /Users/shreyasudhanva/opt/anaconda3/lib/python3.9/site-packages (from transformers==4.35.0) (1.22.4)\n",
      "Collecting tokenizers<0.15,>=0.14\n",
      "  Downloading tokenizers-0.14.1-cp39-cp39-macosx_10_7_x86_64.whl (2.5 MB)\n",
      "\u001b[K     |████████████████████████████████| 2.5 MB 1.9 MB/s eta 0:00:01\n",
      "\u001b[?25hRequirement already satisfied: protobuf!=4.21.0,!=4.21.1,!=4.21.2,!=4.21.3,!=4.21.4,!=4.21.5,<5.0.0dev,>=3.20.3 in /Users/shreyasudhanva/opt/anaconda3/lib/python3.9/site-packages (from tensorflow==2.14.0) (4.24.4)\n",
      "Requirement already satisfied: tensorflow-io-gcs-filesystem>=0.23.1 in /Users/shreyasudhanva/opt/anaconda3/lib/python3.9/site-packages (from tensorflow==2.14.0) (0.34.0)\n",
      "Requirement already satisfied: wrapt<1.15,>=1.11.0 in /Users/shreyasudhanva/opt/anaconda3/lib/python3.9/site-packages (from tensorflow==2.14.0) (1.12.1)\n",
      "Requirement already satisfied: gast!=0.5.0,!=0.5.1,!=0.5.2,>=0.2.1 in /Users/shreyasudhanva/opt/anaconda3/lib/python3.9/site-packages (from tensorflow==2.14.0) (0.5.4)\n",
      "Requirement already satisfied: opt-einsum>=2.3.2 in /Users/shreyasudhanva/opt/anaconda3/lib/python3.9/site-packages (from tensorflow==2.14.0) (3.3.0)\n",
      "Requirement already satisfied: grpcio<2.0,>=1.24.3 in /Users/shreyasudhanva/opt/anaconda3/lib/python3.9/site-packages (from tensorflow==2.14.0) (1.59.0)\n",
      "Requirement already satisfied: setuptools in /Users/shreyasudhanva/opt/anaconda3/lib/python3.9/site-packages (from tensorflow==2.14.0) (61.2.0)\n",
      "Requirement already satisfied: google-pasta>=0.1.1 in /Users/shreyasudhanva/opt/anaconda3/lib/python3.9/site-packages (from tensorflow==2.14.0) (0.2.0)\n",
      "Requirement already satisfied: absl-py>=1.0.0 in /Users/shreyasudhanva/opt/anaconda3/lib/python3.9/site-packages (from tensorflow==2.14.0) (2.0.0)\n",
      "Requirement already satisfied: tensorboard<2.15,>=2.14 in /Users/shreyasudhanva/opt/anaconda3/lib/python3.9/site-packages (from tensorflow==2.14.0) (2.14.1)\n",
      "Requirement already satisfied: ml-dtypes==0.2.0 in /Users/shreyasudhanva/opt/anaconda3/lib/python3.9/site-packages (from tensorflow==2.14.0) (0.2.0)\n",
      "Requirement already satisfied: six>=1.12.0 in /Users/shreyasudhanva/opt/anaconda3/lib/python3.9/site-packages (from tensorflow==2.14.0) (1.16.0)\n",
      "Requirement already satisfied: keras<2.15,>=2.14.0 in /Users/shreyasudhanva/opt/anaconda3/lib/python3.9/site-packages (from tensorflow==2.14.0) (2.14.0)\n",
      "Requirement already satisfied: libclang>=13.0.0 in /Users/shreyasudhanva/opt/anaconda3/lib/python3.9/site-packages (from tensorflow==2.14.0) (16.0.6)\n",
      "Requirement already satisfied: flatbuffers>=23.5.26 in /Users/shreyasudhanva/opt/anaconda3/lib/python3.9/site-packages (from tensorflow==2.14.0) (23.5.26)\n",
      "Requirement already satisfied: tensorflow-estimator<2.15,>=2.14.0 in /Users/shreyasudhanva/opt/anaconda3/lib/python3.9/site-packages (from tensorflow==2.14.0) (2.14.0)\n",
      "Requirement already satisfied: h5py>=2.9.0 in /Users/shreyasudhanva/opt/anaconda3/lib/python3.9/site-packages (from tensorflow==2.14.0) (3.6.0)\n",
      "Collecting numpy>=1.17\n",
      "  Downloading numpy-1.26.2-cp39-cp39-macosx_10_9_x86_64.whl (20.6 MB)\n",
      "\u001b[K     |████████████████████████████████| 20.6 MB 469 kB/s eta 0:00:01\n",
      "\u001b[?25hRequirement already satisfied: astunparse>=1.6.0 in /Users/shreyasudhanva/opt/anaconda3/lib/python3.9/site-packages (from tensorflow==2.14.0) (1.6.3)\n",
      "Requirement already satisfied: typing-extensions>=3.6.6 in /Users/shreyasudhanva/opt/anaconda3/lib/python3.9/site-packages (from tensorflow==2.14.0) (4.1.1)\n",
      "Requirement already satisfied: termcolor>=1.1.0 in /Users/shreyasudhanva/opt/anaconda3/lib/python3.9/site-packages (from tensorflow==2.14.0) (2.3.0)\n",
      "Requirement already satisfied: wheel<1.0,>=0.23.0 in /Users/shreyasudhanva/opt/anaconda3/lib/python3.9/site-packages (from astunparse>=1.6.0->tensorflow==2.14.0) (0.37.1)\n",
      "Collecting fsspec>=2023.5.0\n",
      "  Downloading fsspec-2023.12.1-py3-none-any.whl (168 kB)\n",
      "\u001b[K     |████████████████████████████████| 168 kB 704 kB/s eta 0:00:01\n",
      "\u001b[?25hRequirement already satisfied: pyparsing!=3.0.5,>=2.0.2 in /Users/shreyasudhanva/opt/anaconda3/lib/python3.9/site-packages (from packaging>=20.0->transformers==4.35.0) (3.0.4)\n",
      "Requirement already satisfied: google-auth<3,>=1.6.3 in /Users/shreyasudhanva/opt/anaconda3/lib/python3.9/site-packages (from tensorboard<2.15,>=2.14->tensorflow==2.14.0) (2.23.3)\n",
      "Requirement already satisfied: markdown>=2.6.8 in /Users/shreyasudhanva/opt/anaconda3/lib/python3.9/site-packages (from tensorboard<2.15,>=2.14->tensorflow==2.14.0) (3.3.4)\n",
      "Requirement already satisfied: werkzeug>=1.0.1 in /Users/shreyasudhanva/opt/anaconda3/lib/python3.9/site-packages (from tensorboard<2.15,>=2.14->tensorflow==2.14.0) (2.0.3)\n",
      "Requirement already satisfied: google-auth-oauthlib<1.1,>=0.5 in /Users/shreyasudhanva/opt/anaconda3/lib/python3.9/site-packages (from tensorboard<2.15,>=2.14->tensorflow==2.14.0) (1.0.0)\n",
      "Requirement already satisfied: tensorboard-data-server<0.8.0,>=0.7.0 in /Users/shreyasudhanva/opt/anaconda3/lib/python3.9/site-packages (from tensorboard<2.15,>=2.14->tensorflow==2.14.0) (0.7.1)\n",
      "Requirement already satisfied: cachetools<6.0,>=2.0.0 in /Users/shreyasudhanva/opt/anaconda3/lib/python3.9/site-packages (from google-auth<3,>=1.6.3->tensorboard<2.15,>=2.14->tensorflow==2.14.0) (4.2.2)\n",
      "Requirement already satisfied: pyasn1-modules>=0.2.1 in /Users/shreyasudhanva/opt/anaconda3/lib/python3.9/site-packages (from google-auth<3,>=1.6.3->tensorboard<2.15,>=2.14->tensorflow==2.14.0) (0.2.8)\n",
      "Requirement already satisfied: rsa<5,>=3.1.4 in /Users/shreyasudhanva/opt/anaconda3/lib/python3.9/site-packages (from google-auth<3,>=1.6.3->tensorboard<2.15,>=2.14->tensorflow==2.14.0) (4.7.2)\n",
      "Requirement already satisfied: requests-oauthlib>=0.7.0 in /Users/shreyasudhanva/opt/anaconda3/lib/python3.9/site-packages (from google-auth-oauthlib<1.1,>=0.5->tensorboard<2.15,>=2.14->tensorflow==2.14.0) (1.3.1)\n",
      "Requirement already satisfied: pyasn1<0.5.0,>=0.4.6 in /Users/shreyasudhanva/opt/anaconda3/lib/python3.9/site-packages (from pyasn1-modules>=0.2.1->google-auth<3,>=1.6.3->tensorboard<2.15,>=2.14->tensorflow==2.14.0) (0.4.8)\n",
      "Requirement already satisfied: urllib3<1.27,>=1.21.1 in /Users/shreyasudhanva/opt/anaconda3/lib/python3.9/site-packages (from requests->transformers==4.35.0) (1.26.9)\n",
      "Requirement already satisfied: charset-normalizer~=2.0.0 in /Users/shreyasudhanva/opt/anaconda3/lib/python3.9/site-packages (from requests->transformers==4.35.0) (2.0.4)\n",
      "Requirement already satisfied: certifi>=2017.4.17 in /Users/shreyasudhanva/opt/anaconda3/lib/python3.9/site-packages (from requests->transformers==4.35.0) (2021.10.8)\n",
      "Requirement already satisfied: idna<4,>=2.5 in /Users/shreyasudhanva/opt/anaconda3/lib/python3.9/site-packages (from requests->transformers==4.35.0) (3.3)\n",
      "Requirement already satisfied: oauthlib>=3.0.0 in /Users/shreyasudhanva/opt/anaconda3/lib/python3.9/site-packages (from requests-oauthlib>=0.7.0->google-auth-oauthlib<1.1,>=0.5->tensorboard<2.15,>=2.14->tensorflow==2.14.0) (3.2.2)\n",
      "Collecting huggingface-hub<1.0,>=0.16.4\n",
      "  Using cached huggingface_hub-0.17.3-py3-none-any.whl (295 kB)\n",
      "Installing collected packages: fsspec, numpy, huggingface-hub, tokenizers, safetensors, transformers\n",
      "  Attempting uninstall: fsspec\n",
      "    Found existing installation: fsspec 2022.2.0\n",
      "    Uninstalling fsspec-2022.2.0:\n",
      "      Successfully uninstalled fsspec-2022.2.0\n",
      "  Attempting uninstall: numpy\n",
      "    Found existing installation: numpy 1.22.4\n",
      "    Uninstalling numpy-1.22.4:\n",
      "      Successfully uninstalled numpy-1.22.4\n",
      "\u001b[31mERROR: pip's dependency resolver does not currently take into account all the packages that are installed. This behaviour is the source of the following dependency conflicts.\n",
      "daal4py 2021.5.0 requires daal==2021.4.0, which is not installed.\n",
      "scipy 1.7.3 requires numpy<1.23.0,>=1.16.5, but you have numpy 1.26.2 which is incompatible.\n",
      "numba 0.55.1 requires numpy<1.22,>=1.18, but you have numpy 1.26.2 which is incompatible.\u001b[0m\n",
      "Successfully installed fsspec-2023.12.1 huggingface-hub-0.17.3 numpy-1.26.2 safetensors-0.4.1 tokenizers-0.14.1 transformers-4.35.0\n"
     ]
    }
   ],
   "source": [
    "# make sure that the correct version of transformers and tensorflow is installed\n",
    "# https://huggingface.co/docs/transformers/index\n",
    "# https://www.tensorflow.org/install/pip\n",
    "!pip install transformers==4.35.0 tensorflow==2.14.0\n",
    "\n",
    "# if you are on a mac w/ an M1 chip, you'll need a specific tensorflow-metal version\n",
    "# !pip install tensorflow-metal==1.1.0"
   ]
  },
  {
   "cell_type": "code",
   "execution_count": 2,
   "metadata": {
    "id": "70O-tnuj3U72",
    "pycharm": {
     "name": "#%%\n"
    }
   },
   "outputs": [],
   "source": [
    "import tensorflow as tf\n",
    "import transformers\n",
    "import numpy as np\n",
    "import pandas as pd\n",
    "\n",
    "# for plotting\n",
    "import matplotlib.pyplot as plt\n",
    "\n",
    "# if you want, not required\n",
    "# import seaborn as sns"
   ]
  },
  {
   "cell_type": "markdown",
   "metadata": {
    "id": "yPgW_W1i3U73",
    "pycharm": {
     "name": "#%% md\n"
    }
   },
   "source": [
    "Ensure that your versions match the ones below. If you are running this locally, install the packages with :\n",
    "\n",
    "```bash\n",
    "pip install transformers==4.35.0 tensorflow==2.14.0\n",
    "```\n",
    "\n",
    "If you get an error on import like:\n",
    "\n",
    "```\n",
    "NotFoundError: dlopen(ENVIRONMENT PATH/lib/python3.10/site-packages/tensorflow-plugins/libmetal_plugin.dylib, 0x0006): symbol not found in flat namespace '__ZN10tensorflow8internal10LogMessage16VmoduleActivatedEPKci'\n",
    "```\n",
    "\n",
    "This means that you are on a mac and you don't have the right `tensorflow-metal` [version installed](https://pypi.org/project/tensorflow-metal/):\n",
    "\n",
    "\n",
    "```bash\n",
    "pip install tensorflow-metal==1.1.0\n",
    "```"
   ]
  },
  {
   "cell_type": "markdown",
   "metadata": {
    "id": "Dc5ROhEU3U73",
    "pycharm": {
     "name": "#%% md\n"
    }
   },
   "source": [
    "Check your versions with the following code:\n"
   ]
  },
  {
   "cell_type": "code",
   "execution_count": 3,
   "metadata": {
    "colab": {
     "base_uri": "https://localhost:8080/"
    },
    "id": "BzyFio-l3U73",
    "outputId": "d263f3e3-4e5b-4f1a-f328-2234296c29ac",
    "pycharm": {
     "name": "#%%\n"
    }
   },
   "outputs": [
    {
     "name": "stdout",
     "output_type": "stream",
     "text": [
      "Tensforflow Version :  2.14.0\n",
      "Transformers Version :  4.31.0\n"
     ]
    }
   ],
   "source": [
    "# Version Info\n",
    "print(\"Tensforflow Version : \" ,tf.__version__)\n",
    "print(\"Transformers Version : \" ,transformers.__version__)"
   ]
  },
  {
   "cell_type": "markdown",
   "metadata": {
    "id": "EPd9hZXtC1RB",
    "pycharm": {
     "name": "#%% md\n"
    }
   },
   "source": [
    "## TASK 2: The Data"
   ]
  },
  {
   "cell_type": "markdown",
   "metadata": {
    "id": "D3R6TcHg3U74",
    "pycharm": {
     "name": "#%% md\n"
    }
   },
   "source": [
    "We will be using reviews from the UCI Machine Learning Repository\n",
    "\n",
    "URL : https://archive.ics.uci.edu/ml/datasets/Sentiment+Labelled+Sentences\n",
    "\n",
    "This should have three files :\n",
    "\n",
    "1. imbd_labelled.txt\n",
    "2. amazon_cells_labelled.txt\n",
    "3. yelp_labelled.txt\n",
    "\n",
    "We use the tensorflow utils to download and extract the data."
   ]
  },
  {
   "cell_type": "markdown",
   "metadata": {
    "id": "PUrzd6_x3U74",
    "pycharm": {
     "name": "#%% md\n"
    }
   },
   "source": [
    "Let's take a peek at the data with `pandas`"
   ]
  },
  {
   "cell_type": "code",
   "execution_count": 8,
   "metadata": {
    "colab": {
     "base_uri": "https://localhost:8080/",
     "height": 423
    },
    "id": "X9vOov4r3U74",
    "outputId": "5d5f1162-1126-44bc-ce1f-14237cc10596",
    "pycharm": {
     "name": "#%%\n"
    }
   },
   "outputs": [
    {
     "name": "stdout",
     "output_type": "stream",
     "text": [
      "                                                       text  sentiment\n",
      "1.0       Try talking with ChatGPT, our new AI system wh...          1\n",
      "3.0       THRILLED to share that ChatGPT, our new model ...          1\n",
      "4.0       As of 2 minutes ago, @OpenAI released their ne...          0\n",
      "5.0       Just launched ChatGPT, our new AI system which...          1\n",
      "6.0       As of 2 minutes ago, @OpenAI released their ne...          0\n",
      "...                                                     ...        ...\n",
      "219287.0  One of my new favorite thing to do with #ChatG...          1\n",
      "219289.0  Other Software Projects Are Now Trying to Repl...          0\n",
      "219290.0  I asked #ChatGPT to write a #NYE Joke for SEOs...          1\n",
      "219291.0  chatgpt is being disassembled until it can onl...          0\n",
      "219292.0  2023 predictions by #chatGPT. Nothing really s...          0\n",
      "\n",
      "[163807 rows x 2 columns]\n"
     ]
    },
    {
     "name": "stderr",
     "output_type": "stream",
     "text": [
      "/var/folders/4d/kfts06mn6r72x07mq3_05xz80000gn/T/ipykernel_91753/728764588.py:10: FutureWarning: The behavior of obj[i:j] with a float-dtype index is deprecated. In a future version, this will be treated as positional instead of label-based. For label-based slicing, use obj.loc[i:j] instead\n",
      "  df = df[1:]\n"
     ]
    }
   ],
   "source": [
    "# viewing the data\n",
    "data = \"data/chatGPTsentiment/file.csv\"\n",
    "# df = pd.read_csv(data,\n",
    "#                  encoding=\"utf-8\", encoding_errors=\"replace\")\n",
    "\n",
    "\n",
    "df = pd.read_csv(\"./data/chatGPTsentiment/file.csv\", names=[\"text\",\"sentiment\"])\n",
    "df = df.loc[df[\"sentiment\"] != \"neutral\"]\n",
    "df[\"sentiment\"] = np.where(df[\"sentiment\"]==\"good\", 1,0)\n",
    "df = df[1:]\n",
    "print(df)"
   ]
  },
  {
   "cell_type": "markdown",
   "metadata": {
    "id": "o12HL7Cs3U75",
    "pycharm": {
     "name": "#%% md\n"
    }
   },
   "source": [
    "Models usually take batches of the same size. It would be useful to check the distribution of the lengths of the sentences in the dataset. (We will need to define a max length of sentences to use.)"
   ]
  },
  {
   "cell_type": "code",
   "execution_count": 20,
   "metadata": {},
   "outputs": [
    {
     "data": {
      "text/plain": [
       "1.0         Try talking with ChatGPT, our new AI system wh...\n",
       "3.0         THRILLED to share that ChatGPT, our new model ...\n",
       "4.0         As of 2 minutes ago, @OpenAI released their ne...\n",
       "5.0         Just launched ChatGPT, our new AI system which...\n",
       "6.0         As of 2 minutes ago, @OpenAI released their ne...\n",
       "                                  ...                        \n",
       "219287.0    One of my new favorite thing to do with #ChatG...\n",
       "219289.0    Other Software Projects Are Now Trying to Repl...\n",
       "219290.0    I asked #ChatGPT to write a #NYE Joke for SEOs...\n",
       "219291.0    chatgpt is being disassembled until it can onl...\n",
       "219292.0    2023 predictions by #chatGPT. Nothing really s...\n",
       "Name: text, Length: 163807, dtype: object"
      ]
     },
     "execution_count": 20,
     "metadata": {},
     "output_type": "execute_result"
    }
   ],
   "source": [
    "df.loc[:,\"text\"]"
   ]
  },
  {
   "cell_type": "code",
   "execution_count": 37,
   "metadata": {
    "colab": {
     "base_uri": "https://localhost:8080/",
     "height": 449
    },
    "id": "Emrbxhyk3U75",
    "outputId": "93e32eae-102e-4f1a-b1e8-e84cbb0f1666",
    "pycharm": {
     "name": "#%%\n"
    }
   },
   "outputs": [
    {
     "data": {
      "image/png": "[encoded data removed]",
      "text/plain": [
       "<Figure size 640x480 with 1 Axes>"
      ]
     },
     "metadata": {},
     "output_type": "display_data"
    }
   ],
   "source": [
    "from collections import Counter\n",
    "\n",
    "# TODO: plot the length of the reviews\n",
    "# hint: use the .str.len() method on the first column of the dataframe to get the length of the sentences out\n",
    "# y axis should be the count/number of reviews\n",
    "# x axis should be the length of the reviews\n",
    "# a histogram is a good choice here for visualization\n",
    "# label your axes!\n",
    "\n",
    "def display_histogram(data, title=\"data\"):\n",
    "    lengths = [len(review) for review in data.loc[:,\"text\"]]\n",
    "\n",
    "    x = [length for length in lengths]\n",
    "\n",
    "    plt.hist(x,bins=30)\n",
    "    plt.ylabel(\"Count\")\n",
    "    plt.xlabel(\"Tweet Length\")\n",
    "    plt.title(title)\n",
    "    plt.show()\n",
    "\n",
    "display_histogram(df)"
   ]
  },
  {
   "cell_type": "markdown",
   "metadata": {
    "id": "VmigAhUuC4Yv",
    "pycharm": {
     "name": "#%% md\n"
    }
   },
   "source": [
    "**TODO:** Explore the other two data files, similarly to what we have done above (and what we've done on our homeworks)."
   ]
  },
  {
   "cell_type": "markdown",
   "metadata": {
    "id": "xrhH5gxhDGWN",
    "pycharm": {
     "name": "#%% md\n"
    }
   },
   "source": [
    "## TASK 3: Setting BERT up"
   ]
  },
  {
   "cell_type": "markdown",
   "metadata": {
    "id": "fgyFw7zkDIM_",
    "pycharm": {
     "name": "#%% md\n"
    }
   },
   "source": [
    "__IMPORTANT__:\n",
    "BERT uses two special tokens while tokenization, they are [CLS] and [SEP]. The [CLS] token is used to capture the overall representation of the input sequence for classification tasks, while the [SEP] token is used to indicate sentence boundaries and separate different segments of text, enabling BERT to understand relationships between sentences. These tokens play a vital role in enabling BERT to handle a wide range of natural language processing tasks effectively."
   ]
  },
  {
   "cell_type": "markdown",
   "metadata": {
    "id": "cstsfT2B3U75",
    "pycharm": {
     "name": "#%% md\n"
    }
   },
   "source": [
    "Let us now begin by understanding the Tokenizer used by BERT and the BERT Model Inputs and Outputs"
   ]
  },
  {
   "cell_type": "code",
   "execution_count": 22,
   "metadata": {
    "id": "bdagkfGR3U76",
    "pycharm": {
     "name": "#%%\n"
    }
   },
   "outputs": [],
   "source": [
    "# import specific models\n",
    "from transformers import BertTokenizer, TFBertModel\n",
    "\n",
    "# define a max length constant\n",
    "MAX_LENGTH = 128"
   ]
  },
  {
   "cell_type": "code",
   "execution_count": 23,
   "metadata": {
    "colab": {
     "base_uri": "https://localhost:8080/"
    },
    "id": "A8NP_1_q3U76",
    "outputId": "f28430e9-4a8f-4851-ed36-366e427f5888",
    "pycharm": {
     "name": "#%%\n"
    }
   },
   "outputs": [
    {
     "name": "stderr",
     "output_type": "stream",
     "text": [
      "2023-12-06 13:52:28.147835: I metal_plugin/src/device/metal_device.cc:1154] Metal device set to: Apple M2\n",
      "2023-12-06 13:52:28.147954: I metal_plugin/src/device/metal_device.cc:296] systemMemory: 8.00 GB\n",
      "2023-12-06 13:52:28.147972: I metal_plugin/src/device/metal_device.cc:313] maxCacheSize: 2.67 GB\n",
      "2023-12-06 13:52:28.148530: I tensorflow/core/common_runtime/pluggable_device/pluggable_device_factory.cc:306] Could not identify NUMA node of platform GPU ID 0, defaulting to 0. Your kernel may not have been built with NUMA support.\n",
      "2023-12-06 13:52:28.149195: I tensorflow/core/common_runtime/pluggable_device/pluggable_device_factory.cc:272] Created TensorFlow device (/job:localhost/replica:0/task:0/device:GPU:0 with 0 MB memory) -> physical PluggableDevice (device: 0, name: METAL, pci bus id: <undefined>)\n",
      "Some weights of the PyTorch model were not used when initializing the TF 2.0 model TFBertModel: ['cls.predictions.transform.LayerNorm.bias', 'cls.predictions.transform.dense.weight', 'cls.seq_relationship.bias', 'cls.seq_relationship.weight', 'cls.predictions.bias', 'cls.predictions.transform.LayerNorm.weight', 'cls.predictions.transform.dense.bias']\n",
      "- This IS expected if you are initializing TFBertModel from a PyTorch model trained on another task or with another architecture (e.g. initializing a TFBertForSequenceClassification model from a BertForPreTraining model).\n",
      "- This IS NOT expected if you are initializing TFBertModel from a PyTorch model that you expect to be exactly identical (e.g. initializing a TFBertForSequenceClassification model from a BertForSequenceClassification model).\n",
      "All the weights of TFBertModel were initialized from the PyTorch model.\n",
      "If your task is similar to the task the model of the checkpoint was trained on, you can already use TFBertModel for predictions without further training.\n"
     ]
    }
   ],
   "source": [
    "# downloads a bunch of stuff. On Felix's computer (in Meserve Hall), this took ~half a minute\n",
    "tokenizer = BertTokenizer.from_pretrained('bert-base-uncased')\n",
    "bert = TFBertModel.from_pretrained('bert-base-uncased')\n",
    "\n",
    "# expect to see:\n",
    "# Some weights of the PyTorch model were not used when initializing the TF 2.0 model TFBertModel: ['cls.predictions.transform.LayerNorm.bias', 'cls.predictions.bias', 'cls.seq_relationship.weight', 'cls.seq_relationship.bias', 'cls.predictions.transform.dense.bias', 'cls.predictions.transform.dense.weight', 'cls.predictions.transform.LayerNorm.weight']\n",
    "# - This IS expected if you are initializing TFBertModel from a PyTorch model trained on another task or with another architecture (e.g. initializing a TFBertForSequenceClassification model from a BertForPreTraining model).\n",
    "# - This IS NOT expected if you are initializing TFBertModel from a PyTorch model that you expect to be exactly identical (e.g. initializing a TFBertForSequenceClassification model from a BertForSequenceClassification model).\n",
    "# All the weights of TFBertModel were initialized from the PyTorch model.\n",
    "# If your task is similar to the task the model of the checkpoint was trained on, you can already use TFBertModel for predictions without further training."
   ]
  },
  {
   "cell_type": "code",
   "execution_count": 24,
   "metadata": {
    "colab": {
     "base_uri": "https://localhost:8080/"
    },
    "id": "dyC5gU3v-YyG",
    "outputId": "4a033b65-efcf-48ec-f8b4-d59f89b9eb51",
    "pycharm": {
     "name": "#%%\n"
    }
   },
   "outputs": [
    {
     "name": "stdout",
     "output_type": "stream",
     "text": [
      "Model: \"tf_bert_model\"\n",
      "_________________________________________________________________\n",
      " Layer (type)                Output Shape              Param #   \n",
      "=================================================================\n",
      " bert (TFBertMainLayer)      multiple                  109482240 \n",
      "                                                                 \n",
      "=================================================================\n",
      "Total params: 109482240 (417.64 MB)\n",
      "Trainable params: 109482240 (417.64 MB)\n",
      "Non-trainable params: 0 (0.00 Byte)\n",
      "_________________________________________________________________\n"
     ]
    }
   ],
   "source": [
    "# TODO: print out a summary of your downloaded bert model\n",
    "bert.summary()"
   ]
  },
  {
   "cell_type": "markdown",
   "metadata": {
    "id": "NCz4eg5x-bal",
    "pycharm": {
     "name": "#%% md\n"
    }
   },
   "source": [
    "Notice how there are 109M parameters. These parameters have already been trained. We want to make sure these are not trained when we add on our own components later. (We'll \"freeze\" them.)"
   ]
  },
  {
   "cell_type": "markdown",
   "metadata": {
    "id": "04eD8Fa42cVy",
    "pycharm": {
     "name": "#%% md\n"
    }
   },
   "source": [
    "1. What kind of text data do these weights encode? (Scour the internet and describe the contents of the data used to train BERT)\n",
    "__BERT was trained on a large corpus of books and wikipedia entries. We might expect these weights to encode information pertaining to events and facts, as well a general structure of patterns found in literature.__"
   ]
  },
  {
   "cell_type": "markdown",
   "metadata": {
    "id": "OmIp4Rs7DVUE",
    "pycharm": {
     "name": "#%% md\n"
    }
   },
   "source": [
    "## The Tokenizer"
   ]
  },
  {
   "cell_type": "code",
   "execution_count": 25,
   "metadata": {
    "colab": {
     "base_uri": "https://localhost:8080/"
    },
    "id": "Ze5NIO3x3U76",
    "outputId": "d8c5309a-0dac-4c44-f711-645d6ddc1d78",
    "pycharm": {
     "name": "#%%\n"
    }
   },
   "outputs": [
    {
     "name": "stdout",
     "output_type": "stream",
     "text": [
      "Vocab length is :  30522\n",
      "n e t w o r k\n",
      "[ S E P ]\n",
      "[ M A S K ]\n",
      "12947\n"
     ]
    }
   ],
   "source": [
    "# TODO: print out the first 10 tokens in the tokenizer's vocabulary, the\n",
    "# last ten tokens, and ten tokens from somewhere in the middle of the vocabulary\n",
    "# print out the things necessary to answer the questions below\n",
    "\n",
    "# tokenizer.vocab will access the vocabulary\n",
    "# tokenizer.vocab.keys() will give you the words in the vocabulary. You can convert this to a list to index into it.\n",
    "# tokenizer.vocab[string] will give you the token id for the string\n",
    "# tokenizer.decode(id) will give you the string for the token id\n",
    "\n",
    "print(\"Vocab length is : \",len(tokenizer.vocab))\n",
    "\n",
    "print(tokenizer.decode(2897))\n",
    "print(tokenizer.decode(102))\n",
    "print(tokenizer.decode(103))\n",
    "print(tokenizer.vocab[\"josef\"])"
   ]
  },
  {
   "cell_type": "markdown",
   "metadata": {
    "pycharm": {
     "name": "#%% md\n"
    }
   },
   "source": [
    "2. What is the token associated with id 2897? __network__\n",
    "3. What is the token associated with id 102? __\\[SEP\\]__\n",
    "4. What is the token associated with id 103? __\\[MASK\\]__\n",
    "5. Is your name in BERT's vocabulary (make sure to used the lowercase version, e.g. \"felix\")? If yes, what is it's id?  __Yes, 12947__"
   ]
  },
  {
   "cell_type": "code",
   "execution_count": 26,
   "metadata": {
    "colab": {
     "base_uri": "https://localhost:8080/"
    },
    "id": "ahvhFZSE3U76",
    "outputId": "191e1cad-639f-4d1f-8fad-87b061724857",
    "pycharm": {
     "name": "#%%\n"
    }
   },
   "outputs": [
    {
     "name": "stdout",
     "output_type": "stream",
     "text": [
      "input_ids :  tf.Tensor([[  101  7592  1010  2026  3899  2003 10140  1010  2053  2428   102]], shape=(1, 11), dtype=int32)\n",
      "token_type_ids :  tf.Tensor([[0 0 0 0 0 0 0 0 0 0 0]], shape=(1, 11), dtype=int32)\n",
      "attention_mask :  tf.Tensor([[1 1 1 1 1 1 1 1 1 1 1]], shape=(1, 11), dtype=int32)\n",
      "[CLS] hello, my dog is cute, no really [SEP]\n"
     ]
    }
   ],
   "source": [
    "# example of tokenizing a sentence with the bert tokenizer\n",
    "input_text = \"Hello, my dog is cute, no really\"\n",
    "out = tokenizer(input_text,return_tensors=\"tf\")\n",
    "for key in out:\n",
    "    print(key,\": \",out[key])\n",
    "\n",
    "# notice the differences between the input_text and what is printed out here\n",
    "print(tokenizer.decode(out[\"input_ids\"][0]))"
   ]
  },
  {
   "cell_type": "markdown",
   "metadata": {
    "id": "F7aibPRm3U76",
    "pycharm": {
     "name": "#%% md\n"
    }
   },
   "source": [
    "Notice the different keys returned by the tokenizer. The model can take as input all three keys or just one of them the \"input_ids\".\n",
    "Since the model requires a fixed length input, we will need to pad the sequences to the same length. Let us pad and turn the sequences into length 15 as an example."
   ]
  },
  {
   "cell_type": "code",
   "execution_count": 27,
   "metadata": {
    "colab": {
     "base_uri": "https://localhost:8080/"
    },
    "id": "9rQN3WHF3U77",
    "outputId": "6d87b813-4038-4284-a770-195a7d91f0a0",
    "pycharm": {
     "name": "#%%\n"
    }
   },
   "outputs": [
    {
     "name": "stdout",
     "output_type": "stream",
     "text": [
      "input_ids :  tf.Tensor([[  101  7592  1010  2026  3899  2003  2025 10140  1010  2053  2428   102]], shape=(1, 12), dtype=int32)\n",
      "token_type_ids :  tf.Tensor([[0 0 0 0 0 0 0 0 0 0 0 0]], shape=(1, 12), dtype=int32)\n",
      "attention_mask :  tf.Tensor([[1 1 1 1 1 1 1 1 1 1 1 1]], shape=(1, 12), dtype=int32)\n"
     ]
    }
   ],
   "source": [
    "# TODO: set the max_length and truncation parameters of the tokenizer\n",
    "# the behavior that you want to end up with is a tokenizer that produces tensors that \n",
    "# are never over 15. You are not providing paired input\n",
    "\n",
    "# Tokenizer documentation: https://huggingface.co/docs/transformers/main_classes/tokenizer\n",
    "\n",
    "input_text = \"Hello, my dog is not cute, no really\"\n",
    "\n",
    "# TODO: update this line\n",
    "out = tokenizer(input_text,return_tensors=\"tf\", max_length=15, truncation=True)\n",
    "\n",
    "\n",
    "for key in out:\n",
    "    print(key,\": \",out[key])\n"
   ]
  },
  {
   "cell_type": "markdown",
   "metadata": {
    "id": "Rb7Jhkmh3U77",
    "pycharm": {
     "name": "#%% md\n"
    }
   },
   "source": [
    "The tokenzier also returns multiple outputs for multiple sentences. This is useful for batching.\n",
    "\n",
    "NOTE : The max length is 512 for BERT. We will use 128 or 256 for this lab (our `MAX_LENGTH` parameter)"
   ]
  },
  {
   "cell_type": "code",
   "execution_count": 28,
   "metadata": {
    "colab": {
     "base_uri": "https://localhost:8080/"
    },
    "id": "VybL0aDS3U77",
    "outputId": "8175cd1b-c8fc-4522-dea0-bceeb1a62f4a",
    "pycharm": {
     "name": "#%%\n"
    }
   },
   "outputs": [
    {
     "name": "stdout",
     "output_type": "stream",
     "text": [
      "input_ids :  (3, 128)\n",
      "token_type_ids :  (3, 128)\n",
      "attention_mask :  (3, 128)\n"
     ]
    }
   ],
   "source": [
    "# TODO: make a list of sentences that you want to tokenize with at least 3 sentences that are padded to MAX_LENGTH\n",
    "# make sure that you can tokenize them all at once by looking at the shapes of the tensors that have been output\n",
    "sents = [\"This is a sentence.\",\"This is another sentence, or is it?\", \"Here is one last sentence.\"]\n",
    "batch_x = tokenizer(sents,return_tensors=\"tf\", padding='max_length', truncation=True, max_length=MAX_LENGTH)\n",
    "\n",
    "# here's some code to look at the shapes of the tensors that have been output\n",
    "for key in batch_x:\n",
    "    print(key,\": \",batch_x[key].shape)"
   ]
  },
  {
   "cell_type": "code",
   "execution_count": 29,
   "metadata": {
    "colab": {
     "base_uri": "https://localhost:8080/"
    },
    "id": "FqoZW31r3U77",
    "outputId": "71082962-4f64-4dfd-d091-7c3a448637d0",
    "pycharm": {
     "name": "#%%\n"
    }
   },
   "outputs": [
    {
     "data": {
      "text/plain": [
       "odict_keys(['last_hidden_state', 'pooler_output'])"
      ]
     },
     "execution_count": 29,
     "metadata": {},
     "output_type": "execute_result"
    }
   ],
   "source": [
    "# run bert on the input_ids\n",
    "out = bert(batch_x[\"input_ids\"])\n",
    "\n",
    "# display what the keys are for us\n",
    "out.keys()"
   ]
  },
  {
   "cell_type": "code",
   "execution_count": 30,
   "metadata": {
    "colab": {
     "base_uri": "https://localhost:8080/"
    },
    "id": "auI7ybZq3U77",
    "outputId": "b7ae6ed0-5cbd-40fd-c49e-5f080c09eb82",
    "pycharm": {
     "name": "#%%\n"
    }
   },
   "outputs": [
    {
     "data": {
      "text/plain": [
       "TensorShape([3, 128, 768])"
      ]
     },
     "execution_count": 30,
     "metadata": {},
     "output_type": "execute_result"
    }
   ],
   "source": [
    "# take a look at the shape of the last_hidden_state\n",
    "out['last_hidden_state'].shape"
   ]
  },
  {
   "cell_type": "markdown",
   "metadata": {
    "id": "6ZIJGjHL3U77",
    "pycharm": {
     "name": "#%% md\n"
    }
   },
   "source": [
    "The model returns two tensors of interest. One is the pooled output and the other is contextual hidden state over every token. We will use the hidden state associated with the first token [CLS] for classification. Additional strategies involve averaging the non padding states. The pooler output is a summary of the hidden states.\n",
    "\n",
    "5. Investigate the shape of `last_hidden_state`. What is the __meaning__ of each dimension? (why are each dimension numbered as they are/what do they correspond to? You may need to go investigate some documentation to fully answer this!) __The first dimension is the number of sentences in the tokenized batch, which is 3 in this case. The second is the padded length of the sentences, which we have set to 256. The thrid and final dimension is the the number of hidden units in the final encoder, which is 768 for the base model.__"
   ]
  },
  {
   "cell_type": "code",
   "execution_count": 31,
   "metadata": {
    "colab": {
     "base_uri": "https://localhost:8080/"
    },
    "id": "8-nEKeH13U77",
    "outputId": "21c36e0f-0e09-4591-e33b-d97b1a00772b",
    "pycharm": {
     "name": "#%%\n"
    }
   },
   "outputs": [
    {
     "name": "stdout",
     "output_type": "stream",
     "text": [
      "First token [CLS] :\n"
     ]
    },
    {
     "data": {
      "text/plain": [
       "<tf.Tensor: shape=(3, 768), dtype=float32, numpy=\n",
       "array([[-0.56981224,  0.37906495,  0.3972259 , ..., -0.61657137,\n",
       "         0.45286912, -0.5461028 ],\n",
       "       [-0.45902807,  0.16471946,  0.5013481 , ..., -0.44628778,\n",
       "         0.36878574, -0.7651645 ],\n",
       "       [-0.60922253,  0.18969248,  0.4445212 , ..., -0.5728813 ,\n",
       "         0.49445856, -0.7689513 ]], dtype=float32)>"
      ]
     },
     "execution_count": 31,
     "metadata": {},
     "output_type": "execute_result"
    }
   ],
   "source": [
    "# we can also run bert with unpacked inputs\n",
    "out = bert(**batch_x)\n",
    "\n",
    "# or with them as \"input_ids\" explicitly\n",
    "out = bert(input_ids=batch_x[\"input_ids\"])\n",
    "\n",
    "print(\"First token [CLS] :\")\n",
    "out[\"last_hidden_state\"][:,0,:]"
   ]
  },
  {
   "cell_type": "markdown",
   "metadata": {
    "id": "MDOKY_s6B8Ie",
    "pycharm": {
     "name": "#%% md\n"
    }
   },
   "source": [
    "## Create a Data Generator"
   ]
  },
  {
   "cell_type": "code",
   "execution_count": 32,
   "metadata": {
    "id": "Op6JBjoM3U78",
    "pycharm": {
     "name": "#%%\n"
    }
   },
   "outputs": [],
   "source": [
    "# define a batch size for our experiments\n",
    "BATCH_SIZE = 2\n",
    "# define a percentage of the data to use for training\n",
    "SPLIT_PC = .80\n",
    "\n",
    "# TODO: caluculate the last index for the training data\n",
    "END = int(len(df.index) * SPLIT_PC) - 1"
   ]
  },
  {
   "cell_type": "code",
   "execution_count": 34,
   "metadata": {
    "pycharm": {
     "name": "#%%\n"
    }
   },
   "outputs": [
    {
     "name": "stdout",
     "output_type": "stream",
     "text": [
      "(98309, 2)\n",
      "(65499, 3)\n"
     ]
    },
    {
     "name": "stderr",
     "output_type": "stream",
     "text": [
      "/var/folders/4d/kfts06mn6r72x07mq3_05xz80000gn/T/ipykernel_91753/951028706.py:2: FutureWarning: The behavior of obj[i:j] with a float-dtype index is deprecated. In a future version, this will be treated as positional instead of label-based. For label-based slicing, use obj.loc[i:j] instead\n",
      "  training = df[:END+1]\n",
      "/var/folders/4d/kfts06mn6r72x07mq3_05xz80000gn/T/ipykernel_91753/951028706.py:3: FutureWarning: The behavior of obj[i:j] with a float-dtype index is deprecated. In a future version, this will be treated as positional instead of label-based. For label-based slicing, use obj.loc[i:j] instead\n",
      "  testing = df[END+1:].reset_index()\n"
     ]
    }
   ],
   "source": [
    "#  TODO: get the training data and testing data set up\n",
    "training = df[:END+1]\n",
    "testing = df[END+1:].reset_index()\n",
    "\n",
    "# TODO: add print statements to verify the sizes of your training/testing data are correct\n",
    "print(training.shape)\n",
    "print(testing.shape)\n",
    "\n",
    "train_sentences = training.loc[:,\"text\"]\n",
    "train_labels = training.loc[:,\"sentiment\"]\n",
    "test_sentences = testing.loc[:,\"text\"]\n",
    "test_labels = testing.loc[:,\"sentiment\"]"
   ]
  },
  {
   "cell_type": "code",
   "execution_count": 35,
   "metadata": {
    "colab": {
     "base_uri": "https://localhost:8080/"
    },
    "id": "sBGgSLsK3U78",
    "outputId": "947b8caa-256c-4934-d11c-f3c5948fbc49",
    "pycharm": {
     "name": "#%%\n"
    }
   },
   "outputs": [],
   "source": [
    "# data generator for the model\n",
    "def data_generator(sentences: np.array,labels: np.array,batch_size: int) -> (dict,tf.Tensor):\n",
    "    i = 0\n",
    "    while True:\n",
    "        batch_x = []\n",
    "        batch_y = []\n",
    "        # TODO: append batch_size number of sentences and labels to batch_x and batch_y\n",
    "        # Make sure that you don't re-use sentences and labels that you've already put into batches!\n",
    "        for j in range(batch_size):\n",
    "            START = i * batch_size\n",
    "            batch_x.append(sentences[START+j])\n",
    "            batch_y.append(labels[START+j])\n",
    "        i+=1\n",
    "\n",
    "        if i == len(train_sentences)//BATCH_SIZE:\n",
    "            i = 0\n",
    "\n",
    "        # TODO: tokenize the batch_x, padding to MAX_LENGTH, and truncating to MAX_LENGTH\n",
    "        batch_x = tokenizer(batch_x,return_tensors=\"tf\", padding='max_length', truncation=True, max_length=MAX_LENGTH)\n",
    "\n",
    "        # debugging prints (make sure that these are commented out when you actually train your model)\n",
    "        # should be (batch_size, MAX_LENGTH)\n",
    "        # print(batch_x['input_ids'].shape)\n",
    "\n",
    "        # convert our ys into the appropriate tensor\n",
    "        batch_y = tf.convert_to_tensor(batch_y)\n",
    "        \n",
    "        # debugging prints (make sure that these are commented out when you actually train your model)\n",
    "        # should be (batch_size,)\n",
    "        # print(batch_y.shape)\n",
    "        yield dict(batch_x), batch_y\n",
    "\n",
    "train_data = data_generator(train_sentences,train_labels,BATCH_SIZE)\n",
    "test_data = data_generator(test_sentences,test_labels,BATCH_SIZE)"
   ]
  },
  {
   "cell_type": "markdown",
   "metadata": {
    "id": "Xwi_HtRmCfFs",
    "pycharm": {
     "name": "#%% md\n"
    }
   },
   "source": [
    "**\"Bonus\" Question** - How would you implement randomness in the generator above. (HINT `numpy.random.choice` and its `replace` option)\n",
    "\n",
    "(This is bonus in the sense that it is a good exercise to think about, not in the sense of us giving you extra credit. Feel free to talk to Prof. Felix more about the intersection of equity and extra credit.)"
   ]
  },
  {
   "cell_type": "code",
   "execution_count": 36,
   "metadata": {
    "id": "QxuNw_DKBN4T",
    "pycharm": {
     "name": "#%%\n"
    }
   },
   "outputs": [
    {
     "ename": "KeyError",
     "evalue": "0",
     "output_type": "error",
     "traceback": [
      "\u001b[0;31m---------------------------------------------------------------------------\u001b[0m",
      "\u001b[0;31mKeyError\u001b[0m                                  Traceback (most recent call last)",
      "File \u001b[0;32m/Library/Frameworks/Python.framework/Versions/3.10/lib/python3.10/site-packages/pandas/core/indexes/base.py:3790\u001b[0m, in \u001b[0;36mIndex.get_loc\u001b[0;34m(self, key)\u001b[0m\n\u001b[1;32m   3789\u001b[0m \u001b[39mtry\u001b[39;00m:\n\u001b[0;32m-> 3790\u001b[0m     \u001b[39mreturn\u001b[39;00m \u001b[39mself\u001b[39;49m\u001b[39m.\u001b[39;49m_engine\u001b[39m.\u001b[39;49mget_loc(casted_key)\n\u001b[1;32m   3791\u001b[0m \u001b[39mexcept\u001b[39;00m \u001b[39mKeyError\u001b[39;00m \u001b[39mas\u001b[39;00m err:\n",
      "File \u001b[0;32mindex.pyx:152\u001b[0m, in \u001b[0;36mpandas._libs.index.IndexEngine.get_loc\u001b[0;34m()\u001b[0m\n",
      "File \u001b[0;32mindex.pyx:181\u001b[0m, in \u001b[0;36mpandas._libs.index.IndexEngine.get_loc\u001b[0;34m()\u001b[0m\n",
      "File \u001b[0;32mpandas/_libs/hashtable_class_helper.pxi:1698\u001b[0m, in \u001b[0;36mpandas._libs.hashtable.Float64HashTable.get_item\u001b[0;34m()\u001b[0m\n",
      "File \u001b[0;32mpandas/_libs/hashtable_class_helper.pxi:1722\u001b[0m, in \u001b[0;36mpandas._libs.hashtable.Float64HashTable.get_item\u001b[0;34m()\u001b[0m\n",
      "\u001b[0;31mKeyError\u001b[0m: 0.0",
      "\nThe above exception was the direct cause of the following exception:\n",
      "\u001b[0;31mKeyError\u001b[0m                                  Traceback (most recent call last)",
      "Cell \u001b[0;32mIn[36], line 6\u001b[0m\n\u001b[1;32m      1\u001b[0m \u001b[38;5;66;03m# TODO: Take a look at the contents of tmp_batch_x and tmp_batch_y and report the shapes of the `input_ids` \u001b[39;00m\n\u001b[1;32m      2\u001b[0m \u001b[38;5;66;03m# and the y label tensor.\u001b[39;00m\n\u001b[1;32m      3\u001b[0m \u001b[38;5;66;03m# make sure that the shapes are what you expect them to be\u001b[39;00m\n\u001b[1;32m      4\u001b[0m \u001b[38;5;66;03m# (take a look at the comments in the data_generator code)\u001b[39;00m\n\u001b[0;32m----> 6\u001b[0m tmp_batch_x,tmp_batch_y \u001b[38;5;241m=\u001b[39m \u001b[38;5;28;43mnext\u001b[39;49m\u001b[43m(\u001b[49m\u001b[43mtrain_data\u001b[49m\u001b[43m)\u001b[49m\n\u001b[1;32m      8\u001b[0m \u001b[38;5;28mprint\u001b[39m(tmp_batch_x[\u001b[38;5;124m'\u001b[39m\u001b[38;5;124minput_ids\u001b[39m\u001b[38;5;124m'\u001b[39m]\u001b[38;5;241m.\u001b[39mshape)\n\u001b[1;32m      9\u001b[0m \u001b[38;5;28mprint\u001b[39m(tmp_batch_y\u001b[38;5;241m.\u001b[39mshape)\n",
      "Cell \u001b[0;32mIn[35], line 11\u001b[0m, in \u001b[0;36mdata_generator\u001b[0;34m(sentences, labels, batch_size)\u001b[0m\n\u001b[1;32m      9\u001b[0m \u001b[38;5;28;01mfor\u001b[39;00m j \u001b[38;5;129;01min\u001b[39;00m \u001b[38;5;28mrange\u001b[39m(batch_size):\n\u001b[1;32m     10\u001b[0m     START \u001b[38;5;241m=\u001b[39m i \u001b[38;5;241m*\u001b[39m batch_size\n\u001b[0;32m---> 11\u001b[0m     batch_x\u001b[38;5;241m.\u001b[39mappend(\u001b[43msentences\u001b[49m\u001b[43m[\u001b[49m\u001b[43mSTART\u001b[49m\u001b[38;5;241;43m+\u001b[39;49m\u001b[43mj\u001b[49m\u001b[43m]\u001b[49m)\n\u001b[1;32m     12\u001b[0m     batch_y\u001b[38;5;241m.\u001b[39mappend(labels[START\u001b[38;5;241m+\u001b[39mj])\n\u001b[1;32m     13\u001b[0m i\u001b[38;5;241m+\u001b[39m\u001b[38;5;241m=\u001b[39m\u001b[38;5;241m1\u001b[39m\n",
      "File \u001b[0;32m/Library/Frameworks/Python.framework/Versions/3.10/lib/python3.10/site-packages/pandas/core/series.py:1040\u001b[0m, in \u001b[0;36mSeries.__getitem__\u001b[0;34m(self, key)\u001b[0m\n\u001b[1;32m   1037\u001b[0m     \u001b[39mreturn\u001b[39;00m \u001b[39mself\u001b[39m\u001b[39m.\u001b[39m_values[key]\n\u001b[1;32m   1039\u001b[0m \u001b[39melif\u001b[39;00m key_is_scalar:\n\u001b[0;32m-> 1040\u001b[0m     \u001b[39mreturn\u001b[39;00m \u001b[39mself\u001b[39;49m\u001b[39m.\u001b[39;49m_get_value(key)\n\u001b[1;32m   1042\u001b[0m \u001b[39m# Convert generator to list before going through hashable part\u001b[39;00m\n\u001b[1;32m   1043\u001b[0m \u001b[39m# (We will iterate through the generator there to check for slices)\u001b[39;00m\n\u001b[1;32m   1044\u001b[0m \u001b[39mif\u001b[39;00m is_iterator(key):\n",
      "File \u001b[0;32m/Library/Frameworks/Python.framework/Versions/3.10/lib/python3.10/site-packages/pandas/core/series.py:1156\u001b[0m, in \u001b[0;36mSeries._get_value\u001b[0;34m(self, label, takeable)\u001b[0m\n\u001b[1;32m   1153\u001b[0m     \u001b[39mreturn\u001b[39;00m \u001b[39mself\u001b[39m\u001b[39m.\u001b[39m_values[label]\n\u001b[1;32m   1155\u001b[0m \u001b[39m# Similar to Index.get_value, but we do not fall back to positional\u001b[39;00m\n\u001b[0;32m-> 1156\u001b[0m loc \u001b[39m=\u001b[39m \u001b[39mself\u001b[39;49m\u001b[39m.\u001b[39;49mindex\u001b[39m.\u001b[39;49mget_loc(label)\n\u001b[1;32m   1158\u001b[0m \u001b[39mif\u001b[39;00m is_integer(loc):\n\u001b[1;32m   1159\u001b[0m     \u001b[39mreturn\u001b[39;00m \u001b[39mself\u001b[39m\u001b[39m.\u001b[39m_values[loc]\n",
      "File \u001b[0;32m/Library/Frameworks/Python.framework/Versions/3.10/lib/python3.10/site-packages/pandas/core/indexes/base.py:3797\u001b[0m, in \u001b[0;36mIndex.get_loc\u001b[0;34m(self, key)\u001b[0m\n\u001b[1;32m   3792\u001b[0m     \u001b[39mif\u001b[39;00m \u001b[39misinstance\u001b[39m(casted_key, \u001b[39mslice\u001b[39m) \u001b[39mor\u001b[39;00m (\n\u001b[1;32m   3793\u001b[0m         \u001b[39misinstance\u001b[39m(casted_key, abc\u001b[39m.\u001b[39mIterable)\n\u001b[1;32m   3794\u001b[0m         \u001b[39mand\u001b[39;00m \u001b[39many\u001b[39m(\u001b[39misinstance\u001b[39m(x, \u001b[39mslice\u001b[39m) \u001b[39mfor\u001b[39;00m x \u001b[39min\u001b[39;00m casted_key)\n\u001b[1;32m   3795\u001b[0m     ):\n\u001b[1;32m   3796\u001b[0m         \u001b[39mraise\u001b[39;00m InvalidIndexError(key)\n\u001b[0;32m-> 3797\u001b[0m     \u001b[39mraise\u001b[39;00m \u001b[39mKeyError\u001b[39;00m(key) \u001b[39mfrom\u001b[39;00m \u001b[39merr\u001b[39;00m\n\u001b[1;32m   3798\u001b[0m \u001b[39mexcept\u001b[39;00m \u001b[39mTypeError\u001b[39;00m:\n\u001b[1;32m   3799\u001b[0m     \u001b[39m# If we have a listlike key, _check_indexing_error will raise\u001b[39;00m\n\u001b[1;32m   3800\u001b[0m     \u001b[39m#  InvalidIndexError. Otherwise we fall through and re-raise\u001b[39;00m\n\u001b[1;32m   3801\u001b[0m     \u001b[39m#  the TypeError.\u001b[39;00m\n\u001b[1;32m   3802\u001b[0m     \u001b[39mself\u001b[39m\u001b[39m.\u001b[39m_check_indexing_error(key)\n",
      "\u001b[0;31mKeyError\u001b[0m: 0"
     ]
    }
   ],
   "source": [
    "# TODO: Take a look at the contents of tmp_batch_x and tmp_batch_y and report the shapes of the `input_ids` \n",
    "# and the y label tensor.\n",
    "# make sure that the shapes are what you expect them to be\n",
    "# (take a look at the comments in the data_generator code)\n",
    "\n",
    "tmp_batch_x,tmp_batch_y = next(train_data)\n",
    "\n",
    "print(tmp_batch_x['input_ids'].shape)\n",
    "print(tmp_batch_y.shape)\n",
    "\n"
   ]
  },
  {
   "cell_type": "markdown",
   "metadata": {
    "id": "n78JGhebB4C_",
    "pycharm": {
     "name": "#%% md\n"
    }
   },
   "source": [
    "## TASK 4: Build the Model"
   ]
  },
  {
   "cell_type": "markdown",
   "metadata": {
    "id": "0DQjpBh_-liQ",
    "pycharm": {
     "name": "#%% md\n"
    }
   },
   "source": [
    "Remember how you used concatenated embeddings for your NN model for HW5. The model we design in this lab will take as input token_ids (batch_size, embedding_dim) , run it through a non-trainable bert, extract the 768 dim vector associated with the [CLS] token of each sentence in a batch, this 768 dim vector will play the role of our concatenated embeddings. The main take away is this : Any input size up to 512 will return a 768 dim vector we can use as an embedding for the entire sentence."
   ]
  },
  {
   "cell_type": "code",
   "execution_count": 131,
   "metadata": {
    "colab": {
     "base_uri": "https://localhost:8080/"
    },
    "id": "9T-oAymn3U78",
    "outputId": "b8f8949d-232a-41d0-ae28-6994008f7e85",
    "pycharm": {
     "name": "#%%\n"
    }
   },
   "outputs": [
    {
     "name": "stderr",
     "output_type": "stream",
     "text": [
      "Some weights of the PyTorch model were not used when initializing the TF 2.0 model TFBertModel: ['cls.predictions.bias', 'cls.seq_relationship.weight', 'cls.predictions.transform.dense.weight', 'cls.seq_relationship.bias', 'cls.predictions.transform.LayerNorm.weight', 'cls.predictions.transform.LayerNorm.bias', 'cls.predictions.transform.dense.bias']\n",
      "- This IS expected if you are initializing TFBertModel from a PyTorch model trained on another task or with another architecture (e.g. initializing a TFBertForSequenceClassification model from a BertForPreTraining model).\n",
      "- This IS NOT expected if you are initializing TFBertModel from a PyTorch model that you expect to be exactly identical (e.g. initializing a TFBertForSequenceClassification model from a BertForSequenceClassification model).\n",
      "All the weights of TFBertModel were initialized from the PyTorch model.\n",
      "If your task is similar to the task the model of the checkpoint was trained on, you can already use TFBertModel for predictions without further training.\n"
     ]
    }
   ],
   "source": [
    "# Build the model\n",
    "# This takes < 15 sec to run on Felix's computer\n",
    "\n",
    "bert_model = TFBertModel.from_pretrained('bert-base-uncased',output_attentions = False,return_dict=False)\n",
    "# we do not need attention outputs\n",
    "# we want to return tuples since they are easier to access\n",
    "\n",
    "bert_model.trainable = False\n",
    "# setting trainable to false ensures\n",
    "# we do not update its weights\n",
    "model_ = tf.keras.Sequential([\n",
    "    bert_model,\n",
    "    tf.keras.layers.Lambda(lambda x: x[0][:,0,:]), # https://keras.io/api/layers/core_layers/lambda/\n",
    "    tf.keras.layers.Dense(50,activation=\"relu\"),\n",
    "    tf.keras.layers.Dense(50,activation=\"relu\"),\n",
    "    tf.keras.layers.Dense(1,activation=\"sigmoid\")\n",
    "])\n",
    "\n",
    "model_.compile(loss=\"binary_crossentropy\",optimizer=\"adam\",metrics=[\"accuracy\"])"
   ]
  },
  {
   "cell_type": "markdown",
   "metadata": {
    "pycharm": {
     "name": "#%% md\n"
    }
   },
   "source": [
    "1. What does the `Lambda` layer do? Why do we need it? (Read the documentation and investigate. Think carefully about what `x[0][:,0,:]` means. `x[0]` here is a numpy array.) __It applies the defined lambda function to the input. x\\[0\\] is the last_hidden_state tensor that the model outputs. x\\[0\\]\\[:,0,:\\] returns the portion of the hidden state that is associated with the \\[CLS\\] token.__\n",
    "2. What weights will you be training in this model? __The weights in the sequential model we define in keras__\n",
    "2. What weights will you __not__ be training in this model? __The weights in the BERT model__"
   ]
  },
  {
   "cell_type": "markdown",
   "metadata": {
    "id": "heoBiDyaBl72",
    "pycharm": {
     "name": "#%% md\n"
    }
   },
   "source": [
    "## Train the model\n",
    "\n",
    "We use `.fit` here"
   ]
  },
  {
   "cell_type": "markdown",
   "metadata": {
    "id": "_d_b3IWY_ZZz",
    "pycharm": {
     "name": "#%% md\n"
    }
   },
   "source": [
    "We will also be adding a validation data generator and validation steps. \n",
    "This will allow us to check accuracy on the test_data wile we train over each epoch.\n",
    "\n",
    "For this part, you'll be training in some different configurations and __recording your results__. (don't forget to write these down!)"
   ]
  },
  {
   "cell_type": "code",
   "execution_count": 132,
   "metadata": {
    "colab": {
     "base_uri": "https://localhost:8080/"
    },
    "id": "O1Seudgl3U79",
    "outputId": "029c9b07-d7b3-4e07-cb4b-68824b2c285f",
    "pycharm": {
     "name": "#%%\n"
    }
   },
   "outputs": [
    {
     "name": "stdout",
     "output_type": "stream",
     "text": [
      "Epoch 1/3\n",
      "400/400 [==============================] - 174s 409ms/step - loss: 0.4458 - accuracy: 0.7962 - val_loss: 0.2051 - val_accuracy: 0.9375\n",
      "Epoch 2/3\n",
      "400/400 [==============================] - 154s 384ms/step - loss: 0.2985 - accuracy: 0.8825 - val_loss: 0.0237 - val_accuracy: 1.0000\n",
      "Epoch 3/3\n",
      "400/400 [==============================] - 154s 384ms/step - loss: 0.2916 - accuracy: 0.8838 - val_loss: 0.0777 - val_accuracy: 0.9375\n"
     ]
    },
    {
     "data": {
      "text/plain": [
       "<keras.src.callbacks.History at 0x1cbe95f4820>"
      ]
     },
     "execution_count": 132,
     "metadata": {},
     "output_type": "execute_result"
    }
   ],
   "source": [
    "# 2 epochs takes ~2 and a half minutes on Felix's computer\n",
    "model_.fit(\n",
    "    train_data,\n",
    "    epochs=3,\n",
    "    batch_size=BATCH_SIZE,\n",
    "    steps_per_epoch=len(train_sentences)//BATCH_SIZE,\n",
    "    validation_data=test_data,\n",
    "    validation_steps=BATCH_SIZE*4,\n",
    "    validation_batch_size=BATCH_SIZE\n",
    ")"
   ]
  },
  {
   "cell_type": "markdown",
   "metadata": {
    "id": "of1cKkNACWjH",
    "pycharm": {
     "name": "#%% md\n"
    }
   },
   "source": [
    "TODO: Now train the model on the other two files present in the data folder and report your results (make sure that you train your model from scratch). You will want to experiment with different `MAX_LENGTH`s, `batch_size`s, the number of dense layers you have, the number of hidden units per layer.\n",
    "\n",
    "In general, the more layers corresponds to the more levels of abstract information that your model will be able to extract/represent. The more hidden units (the \"wider\") your network has, the more information it will be able to memorize.\n",
    "\n",
    "4. Using the \"base\" model settings (the default values we've set for you), record the `val_accuracy` after 2 epochs for each training data set:\n",
    "    1. imdb: __0.9062__\n",
    "    2. amazon: __0.8750__\n",
    "    3. yelp: __0.8906__\n",
    "\n",
    "5. Choose one dataset. For at least 4 different combinations of settings, record the following five pieces of information:\n",
    "    1. training data (imdb, amazon, yelp) (this will be the same for all 4 combinations)\n",
    "    2. epochs\n",
    "    3. dimensions of your network (# of layers, # of hidden units per layer) — this is the part after the bert model\n",
    "    4. `MAX_LENGTH` value\n",
    "    5. `batch_size` value\n",
    "    6. time to train\n",
    "    7. `val_accuracy` in the end\n",
    "\n",
    "__YOUR RESULTS HERE (format these nicely!)__\n",
    "\n",
    "| data | epochs | # of layers | # of hidden units | MAX_LENGTH | batch_size | time to train | val_accuracy |\n",
    "|------|--------|-------------|-------------------|------------|------------|---------------|--------------|\n",
    "| imdb | 1      | 1           | 50                | 256        | 4          | 363s          | 0.8906       |\n",
    "| imdb | 2      | 1           | 100               | 256        | 4          | 716s          | 0.9531       |\n",
    "| imdb | 2      | 2           | 25                | 128        | 2          | 303s          | 0.8750       |\n",
    "| imdb | 3      | 2           | 50                | 128        | 2          | 482s          | 0.9375       |\n",
    "\n",
    "\n",
    "6. What did your experiments show you? __Increasing the layers lead to relatively simular performance while using fewer hidden units in total. In general, increasing the number of epochs also helped performance.__"
   ]
  },
  {
   "cell_type": "markdown",
   "metadata": {
    "pycharm": {
     "name": "#%% md\n"
    }
   },
   "source": []
  }
 ],
 "metadata": {
  "accelerator": "GPU",
  "colab": {
   "gpuType": "T4",
   "provenance": []
  },
  "kernelspec": {
   "display_name": "Python 3.10.7 64-bit",
   "language": "python",
   "name": "python3"
  },
  "language_info": {
   "codemirror_mode": {
    "name": "ipython",
    "version": 3
   },
   "file_extension": ".py",
   "mimetype": "text/x-python",
   "name": "python",
   "nbconvert_exporter": "python",
   "pygments_lexer": "ipython3",
   "version": "3.10.7"
  },
  "vscode": {
   "interpreter": {
    "hash": "7e1998ff7f8aa20ada591c520b972326324e5ea05489af9e422744c7c09f6dad"
   }
  }
 },
 "nbformat": 4,
 "nbformat_minor": 0
}
